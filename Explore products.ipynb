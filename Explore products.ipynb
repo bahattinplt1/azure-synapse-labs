{
  "nbformat": 4,
  "nbformat_minor": 2,
  "metadata": {
    "kernelspec": {
      "name": "synapse_pyspark",
      "display_name": "Synapse PySpark"
    },
    "language_info": {
      "name": "python"
    },
    "save_output": true,
    "synapse_widget": {
      "version": "0.1",
      "state": {
        "af70b5bc-b2f7-4f78-a170-b65048e83339": {
          "type": "Synapse.DataFrame",
          "sync_state": {
            "table": {
              "rows": [
                {
                  "0": "771",
                  "1": "Mountain-100 Silver, 38",
                  "2": "Mountain Bikes",
                  "3": "3399.9900"
                },
                {
                  "0": "772",
                  "1": "Mountain-100 Silver, 42",
                  "2": "Mountain Bikes",
                  "3": "3399.9900"
                },
                {
                  "0": "773",
                  "1": "Mountain-100 Silver, 44",
                  "2": "Mountain Bikes",
                  "3": "3399.9900"
                },
                {
                  "0": "774",
                  "1": "Mountain-100 Silver, 48",
                  "2": "Mountain Bikes",
                  "3": "3399.9900"
                },
                {
                  "0": "775",
                  "1": "Mountain-100 Black, 38",
                  "2": "Mountain Bikes",
                  "3": "3374.9900"
                },
                {
                  "0": "776",
                  "1": "Mountain-100 Black, 42",
                  "2": "Mountain Bikes",
                  "3": "3374.9900"
                },
                {
                  "0": "777",
                  "1": "Mountain-100 Black, 44",
                  "2": "Mountain Bikes",
                  "3": "3374.9900"
                },
                {
                  "0": "778",
                  "1": "Mountain-100 Black, 48",
                  "2": "Mountain Bikes",
                  "3": "3374.9900"
                },
                {
                  "0": "779",
                  "1": "Mountain-200 Silver, 38",
                  "2": "Mountain Bikes",
                  "3": "2319.9900"
                },
                {
                  "0": "780",
                  "1": "Mountain-200 Silver, 42",
                  "2": "Mountain Bikes",
                  "3": "2319.9900"
                }
              ],
              "schema": [
                {
                  "key": "0",
                  "name": "ProductID",
                  "type": "string"
                },
                {
                  "key": "1",
                  "name": "ProductName",
                  "type": "string"
                },
                {
                  "key": "2",
                  "name": "Category",
                  "type": "string"
                },
                {
                  "key": "3",
                  "name": "ListPrice",
                  "type": "string"
                }
              ],
              "truncated": false
            },
            "isSummary": false,
            "language": "scala",
            "wranglerEntryContext": {
              "dataframeType": "pyspark"
            }
          },
          "persist_state": {
            "view": {
              "type": "details",
              "tableOptions": {},
              "chartOptions": {
                "chartType": "bar",
                "aggregationType": "count",
                "categoryFieldKeys": [
                  "0"
                ],
                "seriesFieldKeys": [
                  "0"
                ],
                "isStacked": false
              }
            }
          }
        },
        "22afdcb5-dd37-4ea9-acbc-46bd1babf41e": {
          "type": "Synapse.DataFrame",
          "sync_state": {
            "table": {
              "rows": [
                {
                  "0": "Headsets",
                  "1": "3"
                },
                {
                  "0": "Wheels",
                  "1": "14"
                },
                {
                  "0": "Bottom Brackets",
                  "1": "3"
                },
                {
                  "0": "Touring Frames",
                  "1": "18"
                },
                {
                  "0": "Mountain Bikes",
                  "1": "32"
                },
                {
                  "0": "Pedals",
                  "1": "7"
                },
                {
                  "0": "Derailleurs",
                  "1": "2"
                },
                {
                  "0": "Chains",
                  "1": "1"
                },
                {
                  "0": "Pumps",
                  "1": "2"
                },
                {
                  "0": "Hydration Packs",
                  "1": "1"
                },
                {
                  "0": "Road Bikes",
                  "1": "43"
                },
                {
                  "0": "Bottles and Cages",
                  "1": "3"
                },
                {
                  "0": "Road Frames",
                  "1": "33"
                },
                {
                  "0": "Forks",
                  "1": "3"
                },
                {
                  "0": "Vests",
                  "1": "3"
                },
                {
                  "0": "Brakes",
                  "1": "2"
                },
                {
                  "0": "Helmets",
                  "1": "3"
                },
                {
                  "0": "Saddles",
                  "1": "9"
                },
                {
                  "0": "Tights",
                  "1": "3"
                },
                {
                  "0": "Jerseys",
                  "1": "8"
                },
                {
                  "0": "Gloves",
                  "1": "6"
                },
                {
                  "0": "Panniers",
                  "1": "1"
                },
                {
                  "0": "Touring Bikes",
                  "1": "22"
                },
                {
                  "0": "Bike Racks",
                  "1": "1"
                },
                {
                  "0": "Fenders",
                  "1": "1"
                },
                {
                  "0": "Caps",
                  "1": "1"
                },
                {
                  "0": "Lights",
                  "1": "3"
                },
                {
                  "0": "Cranksets",
                  "1": "3"
                },
                {
                  "0": "Shorts",
                  "1": "7"
                },
                {
                  "0": "Locks",
                  "1": "1"
                },
                {
                  "0": "Bike Stands",
                  "1": "1"
                },
                {
                  "0": "Bib-Shorts",
                  "1": "3"
                },
                {
                  "0": "Handlebars",
                  "1": "8"
                },
                {
                  "0": "Mountain Frames",
                  "1": "28"
                },
                {
                  "0": "Tires and Tubes",
                  "1": "11"
                },
                {
                  "0": "Cleaners",
                  "1": "1"
                },
                {
                  "0": "Socks",
                  "1": "4"
                }
              ],
              "schema": [
                {
                  "key": "0",
                  "name": "Category",
                  "type": "string"
                },
                {
                  "key": "1",
                  "name": "count",
                  "type": "bigint"
                }
              ],
              "truncated": false
            },
            "isSummary": false,
            "language": "scala",
            "wranglerEntryContext": {
              "candidateVariableNames": [
                "df_counts"
              ],
              "dataframeType": "pyspark"
            }
          },
          "persist_state": {
            "view": {
              "type": "details",
              "tableOptions": {},
              "chartOptions": {
                "chartType": "bar",
                "aggregationType": "sum",
                "categoryFieldKeys": [
                  "0"
                ],
                "seriesFieldKeys": [
                  "1"
                ],
                "isStacked": false
              }
            }
          }
        }
      }
    }
  },
  "cells": [
    {
      "cell_type": "code",
      "execution_count": 3,
      "outputs": [
        {
          "output_type": "display_data",
          "data": {
            "application/vnd.livy.statement-meta+json": {
              "spark_pool": "sparkio97z5q",
              "statement_id": 4,
              "statement_ids": [
                4
              ],
              "state": "finished",
              "livy_statement_state": "available",
              "spark_jobs": null,
              "session_id": "0",
              "normalized_state": "finished",
              "queued_time": "2025-04-03T01:34:58.1300179Z",
              "session_start_time": null,
              "execution_start_time": "2025-04-03T01:34:58.1312233Z",
              "execution_finish_time": "2025-04-03T01:35:00.0564652Z",
              "parent_msg_id": "93a8bb99-ef0f-47f5-a364-7c6928e7304f"
            },
            "text/plain": "StatementMeta(sparkio97z5q, 0, 4, Finished, Available, Finished)"
          },
          "metadata": {}
        },
        {
          "output_type": "display_data",
          "data": {
            "application/vnd.synapse.widget-view+json": {
              "widget_id": "af70b5bc-b2f7-4f78-a170-b65048e83339",
              "widget_type": "Synapse.DataFrame"
            },
            "text/plain": "SynapseWidget(Synapse.DataFrame, af70b5bc-b2f7-4f78-a170-b65048e83339)"
          },
          "metadata": {}
        }
      ],
      "metadata": {
        "microsoft": {
          "language": "python"
        },
        "collapsed": false
      },
      "source": [
        "%%pyspark\r\n",
        "df = spark.read.load('abfss://files@datalakeio97z5q.dfs.core.windows.net/product_data/products.csv', format='csv'\r\n",
        "## If header exists uncomment line below\r\n",
        ", header=True\r\n",
        ")\r\n",
        "display(df.limit(10))"
      ]
    },
    {
      "cell_type": "code",
      "execution_count": 4,
      "outputs": [
        {
          "output_type": "display_data",
          "data": {
            "application/vnd.livy.statement-meta+json": {
              "spark_pool": "sparkio97z5q",
              "statement_id": 5,
              "statement_ids": [
                5
              ],
              "state": "finished",
              "livy_statement_state": "available",
              "spark_jobs": null,
              "session_id": "0",
              "normalized_state": "finished",
              "queued_time": "2025-04-03T01:34:58.1798592Z",
              "session_start_time": null,
              "execution_start_time": "2025-04-03T01:35:00.0678934Z",
              "execution_finish_time": "2025-04-03T01:35:04.0985886Z",
              "parent_msg_id": "8188f04a-9277-4406-b1d4-a457ddfc07ce"
            },
            "text/plain": "StatementMeta(sparkio97z5q, 0, 5, Finished, Available, Finished)"
          },
          "metadata": {}
        },
        {
          "output_type": "display_data",
          "data": {
            "application/vnd.synapse.widget-view+json": {
              "widget_id": "22afdcb5-dd37-4ea9-acbc-46bd1babf41e",
              "widget_type": "Synapse.DataFrame"
            },
            "text/plain": "SynapseWidget(Synapse.DataFrame, 22afdcb5-dd37-4ea9-acbc-46bd1babf41e)"
          },
          "metadata": {}
        }
      ],
      "metadata": {
        "collapsed": false
      },
      "source": [
        "df_counts = df.groupby(df.Category).count()\r\n",
        "display(df_counts)"
      ]
    }
  ]
}